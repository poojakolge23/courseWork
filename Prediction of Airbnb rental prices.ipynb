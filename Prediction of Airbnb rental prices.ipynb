{
 "cells": [
  {
   "cell_type": "code",
   "execution_count": 3,
   "metadata": {},
   "outputs": [],
   "source": [
    "import numpy as np\n",
    "import pandas as pd\n",
    "\n",
    "miami = pd.read_csv('miami.csv')\n",
    "miami.head()\n",
    "\n",
    "miami.describe()\n",
    "\n",
    "miami.dtypes\n",
    "\n",
    "miami.drop('Unnamed: 0', axis = 1, inplace = True)\n",
    "\n",
    "miami.price = [x.strip('$') for x in miami.price]"
   ]
  },
  {
   "cell_type": "code",
   "execution_count": 5,
   "metadata": {},
   "outputs": [],
   "source": [
    "miami.price = [x.replace(',','') for x in miami.price]"
   ]
  },
  {
   "cell_type": "code",
   "execution_count": 6,
   "metadata": {
    "collapsed": true
   },
   "outputs": [
    {
     "data": {
      "text/plain": [
       "0      1\n",
       "1      1\n",
       "2      0\n",
       "3      1\n",
       "4      2\n",
       "5      1\n",
       "6      1\n",
       "7      2\n",
       "8      1\n",
       "9      1\n",
       "10     1\n",
       "11     1\n",
       "12     1\n",
       "13     0\n",
       "14     2\n",
       "15     1\n",
       "16     2\n",
       "17     1\n",
       "18     1\n",
       "19     1\n",
       "20     1\n",
       "21     1\n",
       "22     3\n",
       "23     2\n",
       "24     1\n",
       "25     0\n",
       "26     0\n",
       "27     1\n",
       "28     1\n",
       "29     1\n",
       "      ..\n",
       "152    1\n",
       "153    1\n",
       "154    2\n",
       "155    3\n",
       "156    4\n",
       "157    1\n",
       "158    2\n",
       "159    3\n",
       "160    1\n",
       "161    1\n",
       "162    2\n",
       "163    1\n",
       "164    1\n",
       "165    0\n",
       "166    2\n",
       "167    1\n",
       "168    1\n",
       "169    1\n",
       "170    1\n",
       "171    1\n",
       "172    1\n",
       "173    1\n",
       "174    1\n",
       "175    0\n",
       "176    0\n",
       "177    1\n",
       "178    1\n",
       "179    0\n",
       "180    0\n",
       "181    0\n",
       "Name: bedroom, Length: 182, dtype: category\n",
       "Categories (6, int64): [0 < 1 < 2 < 3 < 4 < 5]"
      ]
     },
     "execution_count": 6,
     "metadata": {},
     "output_type": "execute_result"
    }
   ],
   "source": [
    "miami.price.astype(float)\n",
    "\n",
    "miami.apply(lambda x: sum(x.isnull()), axis=0)\n",
    "\n",
    "cat_type = pd.api.types.CategoricalDtype(categories=[0,1,2,3,4,5],ordered=True)\n",
    "miami.bedroom.astype(cat_type)"
   ]
  },
  {
   "cell_type": "code",
   "execution_count": 12,
   "metadata": {},
   "outputs": [
    {
     "data": {
      "text/html": [
       "<div>\n",
       "<style scoped>\n",
       "    .dataframe tbody tr th:only-of-type {\n",
       "        vertical-align: middle;\n",
       "    }\n",
       "\n",
       "    .dataframe tbody tr th {\n",
       "        vertical-align: top;\n",
       "    }\n",
       "\n",
       "    .dataframe thead th {\n",
       "        text-align: right;\n",
       "    }\n",
       "</style>\n",
       "<table border=\"1\" class=\"dataframe\">\n",
       "  <thead>\n",
       "    <tr style=\"text-align: right;\">\n",
       "      <th></th>\n",
       "      <th>price</th>\n",
       "      <th>reviews</th>\n",
       "      <th>rating</th>\n",
       "      <th>accommodates</th>\n",
       "      <th>extpeop</th>\n",
       "      <th>savwish</th>\n",
       "      <th>min_stay</th>\n",
       "      <th>sentiment</th>\n",
       "      <th>secdep</th>\n",
       "      <th>cleanfee</th>\n",
       "      <th>weekfee</th>\n",
       "      <th>monthfee</th>\n",
       "      <th>bedroom</th>\n",
       "      <th>bathroom</th>\n",
       "      <th>beds</th>\n",
       "    </tr>\n",
       "  </thead>\n",
       "  <tbody>\n",
       "    <tr>\n",
       "      <th>0</th>\n",
       "      <td>70</td>\n",
       "      <td>45</td>\n",
       "      <td>4.5</td>\n",
       "      <td>2</td>\n",
       "      <td>0</td>\n",
       "      <td>934</td>\n",
       "      <td>3</td>\n",
       "      <td>3.704471</td>\n",
       "      <td>1</td>\n",
       "      <td>0</td>\n",
       "      <td>0</td>\n",
       "      <td>0</td>\n",
       "      <td>1</td>\n",
       "      <td>1</td>\n",
       "      <td>1</td>\n",
       "    </tr>\n",
       "    <tr>\n",
       "      <th>1</th>\n",
       "      <td>100</td>\n",
       "      <td>13</td>\n",
       "      <td>5.0</td>\n",
       "      <td>3</td>\n",
       "      <td>0</td>\n",
       "      <td>171</td>\n",
       "      <td>5</td>\n",
       "      <td>3.355278</td>\n",
       "      <td>1</td>\n",
       "      <td>0</td>\n",
       "      <td>1</td>\n",
       "      <td>1</td>\n",
       "      <td>1</td>\n",
       "      <td>1</td>\n",
       "      <td>1</td>\n",
       "    </tr>\n",
       "    <tr>\n",
       "      <th>2</th>\n",
       "      <td>90</td>\n",
       "      <td>0</td>\n",
       "      <td>NaN</td>\n",
       "      <td>4</td>\n",
       "      <td>1</td>\n",
       "      <td>0</td>\n",
       "      <td>1</td>\n",
       "      <td>2.962161</td>\n",
       "      <td>0</td>\n",
       "      <td>0</td>\n",
       "      <td>0</td>\n",
       "      <td>0</td>\n",
       "      <td>0</td>\n",
       "      <td>1</td>\n",
       "      <td>1</td>\n",
       "    </tr>\n",
       "    <tr>\n",
       "      <th>3</th>\n",
       "      <td>125</td>\n",
       "      <td>20</td>\n",
       "      <td>4.0</td>\n",
       "      <td>4</td>\n",
       "      <td>0</td>\n",
       "      <td>460</td>\n",
       "      <td>7</td>\n",
       "      <td>2.139501</td>\n",
       "      <td>0</td>\n",
       "      <td>1</td>\n",
       "      <td>0</td>\n",
       "      <td>0</td>\n",
       "      <td>1</td>\n",
       "      <td>1</td>\n",
       "      <td>2</td>\n",
       "    </tr>\n",
       "    <tr>\n",
       "      <th>4</th>\n",
       "      <td>99</td>\n",
       "      <td>10</td>\n",
       "      <td>5.0</td>\n",
       "      <td>6</td>\n",
       "      <td>0</td>\n",
       "      <td>589</td>\n",
       "      <td>1</td>\n",
       "      <td>3.628548</td>\n",
       "      <td>1</td>\n",
       "      <td>1</td>\n",
       "      <td>1</td>\n",
       "      <td>1</td>\n",
       "      <td>2</td>\n",
       "      <td>2</td>\n",
       "      <td>3</td>\n",
       "    </tr>\n",
       "  </tbody>\n",
       "</table>\n",
       "</div>"
      ],
      "text/plain": [
       "  price  reviews rating  accommodates extpeop  savwish min_stay  sentiment  \\\n",
       "0   70        45    4.5             2       0      934        3   3.704471   \n",
       "1  100        13    5.0             3       0      171        5   3.355278   \n",
       "2   90         0    NaN             4       1        0        1   2.962161   \n",
       "3  125        20    4.0             4       0      460        7   2.139501   \n",
       "4   99        10    5.0             6       0      589        1   3.628548   \n",
       "\n",
       "  secdep cleanfee weekfee monthfee bedroom bathroom beds  \n",
       "0      1        0       0        0       1        1    1  \n",
       "1      1        0       1        1       1        1    1  \n",
       "2      0        0       0        0       0        1    1  \n",
       "3      0        1       0        0       1        1    2  \n",
       "4      1        1       1        1       2        2    3  "
      ]
     },
     "execution_count": 12,
     "metadata": {},
     "output_type": "execute_result"
    }
   ],
   "source": [
    "miami.head()"
   ]
  },
  {
   "cell_type": "code",
   "execution_count": 7,
   "metadata": {
    "collapsed": true
   },
   "outputs": [
    {
     "data": {
      "text/plain": [
       "price             object\n",
       "reviews            int32\n",
       "rating          category\n",
       "accommodates       int64\n",
       "extpeop         category\n",
       "savwish            int64\n",
       "min_stay        category\n",
       "sentiment        float64\n",
       "secdep          category\n",
       "cleanfee        category\n",
       "weekfee         category\n",
       "monthfee        category\n",
       "bedroom         category\n",
       "bathroom        category\n",
       "beds            category\n",
       "dtype: object"
      ]
     },
     "execution_count": 7,
     "metadata": {},
     "output_type": "execute_result"
    }
   ],
   "source": [
    "miami.bathroom = miami['bathroom'].astype('category')\n",
    "miami.rating = miami['rating'].astype('category')\n",
    "miami.min_stay = miami['min_stay'].astype('category')\n",
    "miami.secdep = miami['secdep'].astype('category')\n",
    "miami.cleanfee = miami['cleanfee'].astype('category')\n",
    "miami.weekfee = miami['weekfee'].astype('category')\n",
    "miami.monthfee = miami['monthfee'].astype('category')\n",
    "miami.bedroom = miami['bedroom'].astype('category')\n",
    "miami.beds = miami['beds'].astype('category')\n",
    "miami.extpeop = miami['extpeop'].astype('category')\n",
    "\n",
    "miami.reviews = miami['reviews'].astype('int32')\n"
   ]
  },
  {
   "cell_type": "code",
   "execution_count": 16,
   "metadata": {},
   "outputs": [],
   "source": [
    "miami.price = miami.price.astype(float)"
   ]
  },
  {
   "cell_type": "code",
   "execution_count": 17,
   "metadata": {
    "collapsed": true
   },
   "outputs": [
    {
     "data": {
      "text/plain": [
       "price            float64\n",
       "reviews            int32\n",
       "rating          category\n",
       "accommodates       int64\n",
       "extpeop         category\n",
       "savwish            int64\n",
       "min_stay        category\n",
       "sentiment        float64\n",
       "secdep          category\n",
       "cleanfee        category\n",
       "weekfee         category\n",
       "monthfee        category\n",
       "bedroom         category\n",
       "bathroom        category\n",
       "beds            category\n",
       "dtype: object"
      ]
     },
     "execution_count": 17,
     "metadata": {},
     "output_type": "execute_result"
    }
   ],
   "source": [
    "miami.dtypes"
   ]
  },
  {
   "cell_type": "code",
   "execution_count": 18,
   "metadata": {},
   "outputs": [],
   "source": [
    "indexRow = [ miami[ miami['sentiment'].isna() & miami['rating'].isna() &  (miami['reviews'] == 0)  ].index ]\n",
    "indexRow\n",
    "newMiami = miami.drop(miami.index[indexRow])\n",
    "\n",
    "\n",
    "newMiami = newMiami.reset_index()"
   ]
  },
  {
   "cell_type": "code",
   "execution_count": null,
   "metadata": {},
   "outputs": [],
   "source": [
    "## Replacing zeros with median revenue\n",
    "\n",
    "val = newMiami.reviews.median()\n",
    "#print(val)\n",
    "newMiami.reviews = newMiami.reviews.apply(lambda x: val if x == 0 else x)\n"
   ]
  },
  {
   "cell_type": "code",
   "execution_count": 50,
   "metadata": {},
   "outputs": [],
   "source": [
    "newMiami.min_stay = newMiami['min_stay'].astype('int32')\n",
    "newMiami['revenue'] = 0.12 * newMiami['reviews'] * newMiami['min_stay'] * newMiami['price']"
   ]
  },
  {
   "cell_type": "code",
   "execution_count": 51,
   "metadata": {},
   "outputs": [
    {
     "data": {
      "text/html": [
       "<div>\n",
       "<style scoped>\n",
       "    .dataframe tbody tr th:only-of-type {\n",
       "        vertical-align: middle;\n",
       "    }\n",
       "\n",
       "    .dataframe tbody tr th {\n",
       "        vertical-align: top;\n",
       "    }\n",
       "\n",
       "    .dataframe thead th {\n",
       "        text-align: right;\n",
       "    }\n",
       "</style>\n",
       "<table border=\"1\" class=\"dataframe\">\n",
       "  <thead>\n",
       "    <tr style=\"text-align: right;\">\n",
       "      <th></th>\n",
       "      <th>price</th>\n",
       "      <th>reviews</th>\n",
       "      <th>rating</th>\n",
       "      <th>accommodates</th>\n",
       "      <th>extpeop</th>\n",
       "      <th>savwish</th>\n",
       "      <th>min_stay</th>\n",
       "      <th>sentiment</th>\n",
       "      <th>secdep</th>\n",
       "      <th>cleanfee</th>\n",
       "      <th>weekfee</th>\n",
       "      <th>monthfee</th>\n",
       "      <th>bedroom</th>\n",
       "      <th>bathroom</th>\n",
       "      <th>beds</th>\n",
       "      <th>revenue</th>\n",
       "    </tr>\n",
       "  </thead>\n",
       "  <tbody>\n",
       "    <tr>\n",
       "      <th>0</th>\n",
       "      <td>70.0</td>\n",
       "      <td>45.0</td>\n",
       "      <td>4.5</td>\n",
       "      <td>2</td>\n",
       "      <td>0</td>\n",
       "      <td>934</td>\n",
       "      <td>3</td>\n",
       "      <td>3.704471</td>\n",
       "      <td>1</td>\n",
       "      <td>0</td>\n",
       "      <td>0</td>\n",
       "      <td>0</td>\n",
       "      <td>1</td>\n",
       "      <td>1</td>\n",
       "      <td>1</td>\n",
       "      <td>1134.0</td>\n",
       "    </tr>\n",
       "    <tr>\n",
       "      <th>1</th>\n",
       "      <td>100.0</td>\n",
       "      <td>13.0</td>\n",
       "      <td>5.0</td>\n",
       "      <td>3</td>\n",
       "      <td>0</td>\n",
       "      <td>171</td>\n",
       "      <td>5</td>\n",
       "      <td>3.355278</td>\n",
       "      <td>1</td>\n",
       "      <td>0</td>\n",
       "      <td>1</td>\n",
       "      <td>1</td>\n",
       "      <td>1</td>\n",
       "      <td>1</td>\n",
       "      <td>1</td>\n",
       "      <td>780.0</td>\n",
       "    </tr>\n",
       "    <tr>\n",
       "      <th>2</th>\n",
       "      <td>90.0</td>\n",
       "      <td>10.0</td>\n",
       "      <td>4.5</td>\n",
       "      <td>4</td>\n",
       "      <td>1</td>\n",
       "      <td>0</td>\n",
       "      <td>1</td>\n",
       "      <td>2.962161</td>\n",
       "      <td>0</td>\n",
       "      <td>0</td>\n",
       "      <td>0</td>\n",
       "      <td>0</td>\n",
       "      <td>0</td>\n",
       "      <td>1</td>\n",
       "      <td>1</td>\n",
       "      <td>108.0</td>\n",
       "    </tr>\n",
       "    <tr>\n",
       "      <th>3</th>\n",
       "      <td>125.0</td>\n",
       "      <td>20.0</td>\n",
       "      <td>4.0</td>\n",
       "      <td>4</td>\n",
       "      <td>0</td>\n",
       "      <td>460</td>\n",
       "      <td>7</td>\n",
       "      <td>2.139501</td>\n",
       "      <td>0</td>\n",
       "      <td>1</td>\n",
       "      <td>0</td>\n",
       "      <td>0</td>\n",
       "      <td>1</td>\n",
       "      <td>1</td>\n",
       "      <td>2</td>\n",
       "      <td>2100.0</td>\n",
       "    </tr>\n",
       "    <tr>\n",
       "      <th>4</th>\n",
       "      <td>99.0</td>\n",
       "      <td>10.0</td>\n",
       "      <td>5.0</td>\n",
       "      <td>6</td>\n",
       "      <td>0</td>\n",
       "      <td>589</td>\n",
       "      <td>1</td>\n",
       "      <td>3.628548</td>\n",
       "      <td>1</td>\n",
       "      <td>1</td>\n",
       "      <td>1</td>\n",
       "      <td>1</td>\n",
       "      <td>2</td>\n",
       "      <td>2</td>\n",
       "      <td>3</td>\n",
       "      <td>118.8</td>\n",
       "    </tr>\n",
       "  </tbody>\n",
       "</table>\n",
       "</div>"
      ],
      "text/plain": [
       "   price  reviews  rating  accommodates extpeop  savwish  min_stay  sentiment  \\\n",
       "0   70.0     45.0     4.5             2       0      934         3   3.704471   \n",
       "1  100.0     13.0     5.0             3       0      171         5   3.355278   \n",
       "2   90.0     10.0     4.5             4       1        0         1   2.962161   \n",
       "3  125.0     20.0     4.0             4       0      460         7   2.139501   \n",
       "4   99.0     10.0     5.0             6       0      589         1   3.628548   \n",
       "\n",
       "  secdep cleanfee weekfee monthfee bedroom bathroom beds  revenue  \n",
       "0      1        0       0        0       1        1    1   1134.0  \n",
       "1      1        0       1        1       1        1    1    780.0  \n",
       "2      0        0       0        0       0        1    1    108.0  \n",
       "3      0        1       0        0       1        1    2   2100.0  \n",
       "4      1        1       1        1       2        2    3    118.8  "
      ]
     },
     "execution_count": 51,
     "metadata": {},
     "output_type": "execute_result"
    }
   ],
   "source": [
    "newMiami.head()"
   ]
  },
  {
   "cell_type": "code",
   "execution_count": 23,
   "metadata": {},
   "outputs": [],
   "source": [
    "\n",
    "newMiami.drop(['index'], axis = 1, inplace = True)"
   ]
  },
  {
   "cell_type": "code",
   "execution_count": 25,
   "metadata": {},
   "outputs": [],
   "source": [
    "newMiami.rating = newMiami['rating'].astype(float)"
   ]
  },
  {
   "cell_type": "code",
   "execution_count": 42,
   "metadata": {},
   "outputs": [],
   "source": [
    "newMiami.rating = newMiami.rating.fillna(newMiami.rating.median())"
   ]
  },
  {
   "cell_type": "code",
   "execution_count": 48,
   "metadata": {},
   "outputs": [
    {
     "name": "stdout",
     "output_type": "stream",
     "text": [
      "10.0\n"
     ]
    }
   ],
   "source": []
  },
  {
   "cell_type": "code",
   "execution_count": 27,
   "metadata": {
    "collapsed": true
   },
   "outputs": [
    {
     "data": {
      "text/plain": [
       "price            float64\n",
       "reviews            int32\n",
       "rating           float64\n",
       "accommodates       int64\n",
       "extpeop         category\n",
       "savwish            int64\n",
       "min_stay           int32\n",
       "sentiment        float64\n",
       "secdep          category\n",
       "cleanfee        category\n",
       "weekfee         category\n",
       "monthfee        category\n",
       "bedroom         category\n",
       "bathroom        category\n",
       "beds            category\n",
       "revenue          float64\n",
       "dtype: object"
      ]
     },
     "execution_count": 27,
     "metadata": {},
     "output_type": "execute_result"
    }
   ],
   "source": [
    "newMiami.dtypes"
   ]
  },
  {
   "cell_type": "code",
   "execution_count": 28,
   "metadata": {},
   "outputs": [
    {
     "data": {
      "text/plain": [
       "<seaborn.axisgrid.PairGrid at 0x129247630>"
      ]
     },
     "execution_count": 28,
     "metadata": {},
     "output_type": "execute_result"
    }
   ],
   "source": [
    "import seaborn as sns\n",
    "sns.pairplot(newMiami)"
   ]
  },
  {
   "cell_type": "code",
   "execution_count": 61,
   "metadata": {
    "collapsed": true
   },
   "outputs": [
    {
     "data": {
      "text/plain": [
       "array([[<matplotlib.axes._subplots.AxesSubplot object at 0x1a3f1f2d30>,\n",
       "        <matplotlib.axes._subplots.AxesSubplot object at 0x1a3f4e4588>,\n",
       "        <matplotlib.axes._subplots.AxesSubplot object at 0x1a3f8e6908>],\n",
       "       [<matplotlib.axes._subplots.AxesSubplot object at 0x1a3f4e36a0>,\n",
       "        <matplotlib.axes._subplots.AxesSubplot object at 0x1a3f4e7780>,\n",
       "        <matplotlib.axes._subplots.AxesSubplot object at 0x1a3f9e8240>],\n",
       "       [<matplotlib.axes._subplots.AxesSubplot object at 0x1a3fa394a8>,\n",
       "        <matplotlib.axes._subplots.AxesSubplot object at 0x1a3f9ae748>,\n",
       "        <matplotlib.axes._subplots.AxesSubplot object at 0x1a3f9ae780>]],\n",
       "      dtype=object)"
      ]
     },
     "execution_count": 61,
     "metadata": {},
     "output_type": "execute_result"
    },
    {
     "data": {
      "image/png": "[encoded data removed]",
      "text/plain": [
       "<Figure size 1440x1440 with 9 Axes>"
      ]
     },
     "metadata": {
      "needs_background": "light"
     },
     "output_type": "display_data"
    }
   ],
   "source": [
    "newMiami.hist(bins=50, figsize=(20,20))\n"
   ]
  },
  {
   "cell_type": "code",
   "execution_count": 36,
   "metadata": {},
   "outputs": [
    {
     "data": {
      "text/plain": [
       "Text(0, 0.5, 'reviews')"
      ]
     },
     "execution_count": 36,
     "metadata": {},
     "output_type": "execute_result"
    },
    {
     "data": {
      "image/png": "[encoded data removed]",
      "text/plain": [
       "<Figure size 432x288 with 1 Axes>"
      ]
     },
     "metadata": {
      "needs_background": "light"
     },
     "output_type": "display_data"
    }
   ],
   "source": [
    "import matplotlib.pyplot as plt\n",
    "\n",
    "%matplotlib inline\n",
    "\n",
    "plt.plot( newMiami.sentiment,newMiami.reviews, 'o', color='blue')\n",
    "plt.xlabel('sentiment')\n",
    "plt.ylabel('reviews')"
   ]
  },
  {
   "cell_type": "code",
   "execution_count": 58,
   "metadata": {
    "collapsed": true
   },
   "outputs": [
    {
     "ename": "TypeError",
     "evalue": "'<' not supported between instances of 'CategoricalDtype' and 'CategoricalDtype'",
     "output_type": "error",
     "traceback": [
      "\u001b[0;31m---------------------------------------------------------------------------\u001b[0m",
      "\u001b[0;31mTypeError\u001b[0m                                 Traceback (most recent call last)",
      "\u001b[0;32m<ipython-input-58-0aa234418cee>\u001b[0m in \u001b[0;36m<module>\u001b[0;34m\u001b[0m\n\u001b[1;32m     11\u001b[0m \u001b[0mscaler\u001b[0m \u001b[0;34m=\u001b[0m \u001b[0mpreprocessing\u001b[0m\u001b[0;34m.\u001b[0m\u001b[0mStandardScaler\u001b[0m\u001b[0;34m(\u001b[0m\u001b[0;34m)\u001b[0m\u001b[0;34m\u001b[0m\u001b[0;34m\u001b[0m\u001b[0m\n\u001b[1;32m     12\u001b[0m \u001b[0;31m# Fit your data on the scaler object\u001b[0m\u001b[0;34m\u001b[0m\u001b[0;34m\u001b[0m\u001b[0;34m\u001b[0m\u001b[0m\n\u001b[0;32m---> 13\u001b[0;31m \u001b[0mscaled_df\u001b[0m \u001b[0;34m=\u001b[0m \u001b[0mscaler\u001b[0m\u001b[0;34m.\u001b[0m\u001b[0mfit_transform\u001b[0m\u001b[0;34m(\u001b[0m\u001b[0mnewMiami\u001b[0m\u001b[0;34m)\u001b[0m\u001b[0;34m\u001b[0m\u001b[0;34m\u001b[0m\u001b[0m\n\u001b[0m\u001b[1;32m     14\u001b[0m \u001b[0mscaled_df\u001b[0m \u001b[0;34m=\u001b[0m \u001b[0mpd\u001b[0m\u001b[0;34m.\u001b[0m\u001b[0mDataFrame\u001b[0m\u001b[0;34m(\u001b[0m\u001b[0mscaled_df\u001b[0m\u001b[0;34m,\u001b[0m \u001b[0mcolumns\u001b[0m\u001b[0;34m=\u001b[0m\u001b[0mnames\u001b[0m\u001b[0;34m)\u001b[0m\u001b[0;34m\u001b[0m\u001b[0;34m\u001b[0m\u001b[0m\n",
      "\u001b[0;32m/anaconda3/lib/python3.7/site-packages/sklearn/base.py\u001b[0m in \u001b[0;36mfit_transform\u001b[0;34m(self, X, y, **fit_params)\u001b[0m\n\u001b[1;32m    460\u001b[0m         \u001b[0;32mif\u001b[0m \u001b[0my\u001b[0m \u001b[0;32mis\u001b[0m \u001b[0;32mNone\u001b[0m\u001b[0;34m:\u001b[0m\u001b[0;34m\u001b[0m\u001b[0;34m\u001b[0m\u001b[0m\n\u001b[1;32m    461\u001b[0m             \u001b[0;31m# fit method of arity 1 (unsupervised transformation)\u001b[0m\u001b[0;34m\u001b[0m\u001b[0;34m\u001b[0m\u001b[0;34m\u001b[0m\u001b[0m\n\u001b[0;32m--> 462\u001b[0;31m             \u001b[0;32mreturn\u001b[0m \u001b[0mself\u001b[0m\u001b[0;34m.\u001b[0m\u001b[0mfit\u001b[0m\u001b[0;34m(\u001b[0m\u001b[0mX\u001b[0m\u001b[0;34m,\u001b[0m \u001b[0;34m**\u001b[0m\u001b[0mfit_params\u001b[0m\u001b[0;34m)\u001b[0m\u001b[0;34m.\u001b[0m\u001b[0mtransform\u001b[0m\u001b[0;34m(\u001b[0m\u001b[0mX\u001b[0m\u001b[0;34m)\u001b[0m\u001b[0;34m\u001b[0m\u001b[0;34m\u001b[0m\u001b[0m\n\u001b[0m\u001b[1;32m    463\u001b[0m         \u001b[0;32melse\u001b[0m\u001b[0;34m:\u001b[0m\u001b[0;34m\u001b[0m\u001b[0;34m\u001b[0m\u001b[0m\n\u001b[1;32m    464\u001b[0m             \u001b[0;31m# fit method of arity 2 (supervised transformation)\u001b[0m\u001b[0;34m\u001b[0m\u001b[0;34m\u001b[0m\u001b[0;34m\u001b[0m\u001b[0m\n",
      "\u001b[0;32m/anaconda3/lib/python3.7/site-packages/sklearn/preprocessing/data.py\u001b[0m in \u001b[0;36mfit\u001b[0;34m(self, X, y)\u001b[0m\n\u001b[1;32m    623\u001b[0m         \u001b[0;31m# Reset internal state before fitting\u001b[0m\u001b[0;34m\u001b[0m\u001b[0;34m\u001b[0m\u001b[0;34m\u001b[0m\u001b[0m\n\u001b[1;32m    624\u001b[0m         \u001b[0mself\u001b[0m\u001b[0;34m.\u001b[0m\u001b[0m_reset\u001b[0m\u001b[0;34m(\u001b[0m\u001b[0;34m)\u001b[0m\u001b[0;34m\u001b[0m\u001b[0;34m\u001b[0m\u001b[0m\n\u001b[0;32m--> 625\u001b[0;31m         \u001b[0;32mreturn\u001b[0m \u001b[0mself\u001b[0m\u001b[0;34m.\u001b[0m\u001b[0mpartial_fit\u001b[0m\u001b[0;34m(\u001b[0m\u001b[0mX\u001b[0m\u001b[0;34m,\u001b[0m \u001b[0my\u001b[0m\u001b[0;34m)\u001b[0m\u001b[0;34m\u001b[0m\u001b[0;34m\u001b[0m\u001b[0m\n\u001b[0m\u001b[1;32m    626\u001b[0m \u001b[0;34m\u001b[0m\u001b[0m\n\u001b[1;32m    627\u001b[0m     \u001b[0;32mdef\u001b[0m \u001b[0mpartial_fit\u001b[0m\u001b[0;34m(\u001b[0m\u001b[0mself\u001b[0m\u001b[0;34m,\u001b[0m \u001b[0mX\u001b[0m\u001b[0;34m,\u001b[0m \u001b[0my\u001b[0m\u001b[0;34m=\u001b[0m\u001b[0;32mNone\u001b[0m\u001b[0;34m)\u001b[0m\u001b[0;34m:\u001b[0m\u001b[0;34m\u001b[0m\u001b[0;34m\u001b[0m\u001b[0m\n",
      "\u001b[0;32m/anaconda3/lib/python3.7/site-packages/sklearn/preprocessing/data.py\u001b[0m in \u001b[0;36mpartial_fit\u001b[0;34m(self, X, y)\u001b[0m\n\u001b[1;32m    647\u001b[0m         X = check_array(X, accept_sparse=('csr', 'csc'), copy=self.copy,\n\u001b[1;32m    648\u001b[0m                         \u001b[0mwarn_on_dtype\u001b[0m\u001b[0;34m=\u001b[0m\u001b[0;32mTrue\u001b[0m\u001b[0;34m,\u001b[0m \u001b[0mestimator\u001b[0m\u001b[0;34m=\u001b[0m\u001b[0mself\u001b[0m\u001b[0;34m,\u001b[0m \u001b[0mdtype\u001b[0m\u001b[0;34m=\u001b[0m\u001b[0mFLOAT_DTYPES\u001b[0m\u001b[0;34m,\u001b[0m\u001b[0;34m\u001b[0m\u001b[0;34m\u001b[0m\u001b[0m\n\u001b[0;32m--> 649\u001b[0;31m                         force_all_finite='allow-nan')\n\u001b[0m\u001b[1;32m    650\u001b[0m \u001b[0;34m\u001b[0m\u001b[0m\n\u001b[1;32m    651\u001b[0m         \u001b[0;31m# Even in the case of `with_mean=False`, we update the mean anyway\u001b[0m\u001b[0;34m\u001b[0m\u001b[0;34m\u001b[0m\u001b[0;34m\u001b[0m\u001b[0m\n",
      "\u001b[0;32m/anaconda3/lib/python3.7/site-packages/sklearn/utils/validation.py\u001b[0m in \u001b[0;36mcheck_array\u001b[0;34m(array, accept_sparse, accept_large_sparse, dtype, order, copy, force_all_finite, ensure_2d, allow_nd, ensure_min_samples, ensure_min_features, warn_on_dtype, estimator)\u001b[0m\n\u001b[1;32m    604\u001b[0m         \u001b[0;31m# some data must have been converted\u001b[0m\u001b[0;34m\u001b[0m\u001b[0;34m\u001b[0m\u001b[0;34m\u001b[0m\u001b[0m\n\u001b[1;32m    605\u001b[0m         msg = (\"Data with input dtype %s were all converted to %s%s.\"\n\u001b[0;32m--> 606\u001b[0;31m                % (', '.join(map(str, sorted(set(dtypes_orig)))), array.dtype,\n\u001b[0m\u001b[1;32m    607\u001b[0m                   context))\n\u001b[1;32m    608\u001b[0m         \u001b[0mwarnings\u001b[0m\u001b[0;34m.\u001b[0m\u001b[0mwarn\u001b[0m\u001b[0;34m(\u001b[0m\u001b[0mmsg\u001b[0m\u001b[0;34m,\u001b[0m \u001b[0mDataConversionWarning\u001b[0m\u001b[0;34m,\u001b[0m \u001b[0mstacklevel\u001b[0m\u001b[0;34m=\u001b[0m\u001b[0;36m3\u001b[0m\u001b[0;34m)\u001b[0m\u001b[0;34m\u001b[0m\u001b[0;34m\u001b[0m\u001b[0m\n",
      "\u001b[0;31mTypeError\u001b[0m: '<' not supported between instances of 'CategoricalDtype' and 'CategoricalDtype'"
     ]
    }
   ],
   "source": [
    "## Normalization of revenue\n",
    "\n",
    "from sklearn import preprocessing\n",
    "\n",
    "#rev = [newMiami['revenue']]\n",
    "#newMiami['revenue'] = preprocessing.normalize([newMiami.revenue])\n",
    "\n",
    "\n",
    "names = newMiami.columns\n",
    "# Create the Scaler object\n",
    "scaler = preprocessing.StandardScaler()\n",
    "# Fit your data on the scaler object\n",
    "scaled_df = scaler.fit_transform(newMiami)\n",
    "scaled_df = pd.DataFrame(scaled_df, columns=names)"
   ]
  },
  {
   "cell_type": "code",
   "execution_count": 59,
   "metadata": {},
   "outputs": [
    {
     "data": {
      "text/html": [
       "<div>\n",
       "<style scoped>\n",
       "    .dataframe tbody tr th:only-of-type {\n",
       "        vertical-align: middle;\n",
       "    }\n",
       "\n",
       "    .dataframe tbody tr th {\n",
       "        vertical-align: top;\n",
       "    }\n",
       "\n",
       "    .dataframe thead th {\n",
       "        text-align: right;\n",
       "    }\n",
       "</style>\n",
       "<table border=\"1\" class=\"dataframe\">\n",
       "  <thead>\n",
       "    <tr style=\"text-align: right;\">\n",
       "      <th></th>\n",
       "      <th>price</th>\n",
       "      <th>reviews</th>\n",
       "      <th>rating</th>\n",
       "      <th>accommodates</th>\n",
       "      <th>extpeop</th>\n",
       "      <th>savwish</th>\n",
       "      <th>min_stay</th>\n",
       "      <th>sentiment</th>\n",
       "      <th>secdep</th>\n",
       "      <th>cleanfee</th>\n",
       "      <th>weekfee</th>\n",
       "      <th>monthfee</th>\n",
       "      <th>bedroom</th>\n",
       "      <th>bathroom</th>\n",
       "      <th>beds</th>\n",
       "      <th>revenue</th>\n",
       "    </tr>\n",
       "  </thead>\n",
       "  <tbody>\n",
       "    <tr>\n",
       "      <th>0</th>\n",
       "      <td>70.0</td>\n",
       "      <td>45.0</td>\n",
       "      <td>4.5</td>\n",
       "      <td>2</td>\n",
       "      <td>0</td>\n",
       "      <td>934</td>\n",
       "      <td>3</td>\n",
       "      <td>3.704471</td>\n",
       "      <td>1</td>\n",
       "      <td>0</td>\n",
       "      <td>0</td>\n",
       "      <td>0</td>\n",
       "      <td>1</td>\n",
       "      <td>1</td>\n",
       "      <td>1</td>\n",
       "      <td>1134.0</td>\n",
       "    </tr>\n",
       "    <tr>\n",
       "      <th>1</th>\n",
       "      <td>100.0</td>\n",
       "      <td>13.0</td>\n",
       "      <td>5.0</td>\n",
       "      <td>3</td>\n",
       "      <td>0</td>\n",
       "      <td>171</td>\n",
       "      <td>5</td>\n",
       "      <td>3.355278</td>\n",
       "      <td>1</td>\n",
       "      <td>0</td>\n",
       "      <td>1</td>\n",
       "      <td>1</td>\n",
       "      <td>1</td>\n",
       "      <td>1</td>\n",
       "      <td>1</td>\n",
       "      <td>780.0</td>\n",
       "    </tr>\n",
       "    <tr>\n",
       "      <th>2</th>\n",
       "      <td>90.0</td>\n",
       "      <td>10.0</td>\n",
       "      <td>4.5</td>\n",
       "      <td>4</td>\n",
       "      <td>1</td>\n",
       "      <td>0</td>\n",
       "      <td>1</td>\n",
       "      <td>2.962161</td>\n",
       "      <td>0</td>\n",
       "      <td>0</td>\n",
       "      <td>0</td>\n",
       "      <td>0</td>\n",
       "      <td>0</td>\n",
       "      <td>1</td>\n",
       "      <td>1</td>\n",
       "      <td>108.0</td>\n",
       "    </tr>\n",
       "    <tr>\n",
       "      <th>3</th>\n",
       "      <td>125.0</td>\n",
       "      <td>20.0</td>\n",
       "      <td>4.0</td>\n",
       "      <td>4</td>\n",
       "      <td>0</td>\n",
       "      <td>460</td>\n",
       "      <td>7</td>\n",
       "      <td>2.139501</td>\n",
       "      <td>0</td>\n",
       "      <td>1</td>\n",
       "      <td>0</td>\n",
       "      <td>0</td>\n",
       "      <td>1</td>\n",
       "      <td>1</td>\n",
       "      <td>2</td>\n",
       "      <td>2100.0</td>\n",
       "    </tr>\n",
       "    <tr>\n",
       "      <th>4</th>\n",
       "      <td>99.0</td>\n",
       "      <td>10.0</td>\n",
       "      <td>5.0</td>\n",
       "      <td>6</td>\n",
       "      <td>0</td>\n",
       "      <td>589</td>\n",
       "      <td>1</td>\n",
       "      <td>3.628548</td>\n",
       "      <td>1</td>\n",
       "      <td>1</td>\n",
       "      <td>1</td>\n",
       "      <td>1</td>\n",
       "      <td>2</td>\n",
       "      <td>2</td>\n",
       "      <td>3</td>\n",
       "      <td>118.8</td>\n",
       "    </tr>\n",
       "  </tbody>\n",
       "</table>\n",
       "</div>"
      ],
      "text/plain": [
       "   price  reviews  rating  accommodates extpeop  savwish  min_stay  sentiment  \\\n",
       "0   70.0     45.0     4.5             2       0      934         3   3.704471   \n",
       "1  100.0     13.0     5.0             3       0      171         5   3.355278   \n",
       "2   90.0     10.0     4.5             4       1        0         1   2.962161   \n",
       "3  125.0     20.0     4.0             4       0      460         7   2.139501   \n",
       "4   99.0     10.0     5.0             6       0      589         1   3.628548   \n",
       "\n",
       "  secdep cleanfee weekfee monthfee bedroom bathroom beds  revenue  \n",
       "0      1        0       0        0       1        1    1   1134.0  \n",
       "1      1        0       1        1       1        1    1    780.0  \n",
       "2      0        0       0        0       0        1    1    108.0  \n",
       "3      0        1       0        0       1        1    2   2100.0  \n",
       "4      1        1       1        1       2        2    3    118.8  "
      ]
     },
     "execution_count": 59,
     "metadata": {},
     "output_type": "execute_result"
    }
   ],
   "source": [
    "newMiami.head()"
   ]
  },
  {
   "cell_type": "code",
   "execution_count": 60,
   "metadata": {},
   "outputs": [],
   "source": [
    "newMiami['Norm_Revenue'] = np.log10(newMiami.revenue)"
   ]
  },
  {
   "cell_type": "code",
   "execution_count": 87,
   "metadata": {},
   "outputs": [],
   "source": [
    "y = newMiami.Norm_Revenue"
   ]
  },
  {
   "cell_type": "code",
   "execution_count": 104,
   "metadata": {},
   "outputs": [
    {
     "data": {
      "text/html": [
       "<style  type=\"text/css\" >\n",
       "    #T_427e4512_de73_11e9_99a3_acde48001122row0_col0 {\n",
       "            background-color:  #b40426;\n",
       "        }    #T_427e4512_de73_11e9_99a3_acde48001122row0_col1 {\n",
       "            background-color:  #3b4cc0;\n",
       "        }    #T_427e4512_de73_11e9_99a3_acde48001122row0_col2 {\n",
       "            background-color:  #3b4cc0;\n",
       "        }    #T_427e4512_de73_11e9_99a3_acde48001122row0_col3 {\n",
       "            background-color:  #f7ad90;\n",
       "        }    #T_427e4512_de73_11e9_99a3_acde48001122row0_col4 {\n",
       "            background-color:  #3b4cc0;\n",
       "        }    #T_427e4512_de73_11e9_99a3_acde48001122row0_col5 {\n",
       "            background-color:  #b1cbfc;\n",
       "        }    #T_427e4512_de73_11e9_99a3_acde48001122row0_col6 {\n",
       "            background-color:  #3b4cc0;\n",
       "        }    #T_427e4512_de73_11e9_99a3_acde48001122row0_col7 {\n",
       "            background-color:  #3c4ec2;\n",
       "        }    #T_427e4512_de73_11e9_99a3_acde48001122row0_col8 {\n",
       "            background-color:  #5f7fe8;\n",
       "        }    #T_427e4512_de73_11e9_99a3_acde48001122row1_col0 {\n",
       "            background-color:  #3b4cc0;\n",
       "        }    #T_427e4512_de73_11e9_99a3_acde48001122row1_col1 {\n",
       "            background-color:  #b40426;\n",
       "        }    #T_427e4512_de73_11e9_99a3_acde48001122row1_col2 {\n",
       "            background-color:  #81a4fb;\n",
       "        }    #T_427e4512_de73_11e9_99a3_acde48001122row1_col3 {\n",
       "            background-color:  #3b4cc0;\n",
       "        }    #T_427e4512_de73_11e9_99a3_acde48001122row1_col4 {\n",
       "            background-color:  #f5a081;\n",
       "        }    #T_427e4512_de73_11e9_99a3_acde48001122row1_col5 {\n",
       "            background-color:  #3b4cc0;\n",
       "        }    #T_427e4512_de73_11e9_99a3_acde48001122row1_col6 {\n",
       "            background-color:  #7a9df8;\n",
       "        }    #T_427e4512_de73_11e9_99a3_acde48001122row1_col7 {\n",
       "            background-color:  #86a9fc;\n",
       "        }    #T_427e4512_de73_11e9_99a3_acde48001122row1_col8 {\n",
       "            background-color:  #afcafc;\n",
       "        }    #T_427e4512_de73_11e9_99a3_acde48001122row2_col0 {\n",
       "            background-color:  #5977e3;\n",
       "        }    #T_427e4512_de73_11e9_99a3_acde48001122row2_col1 {\n",
       "            background-color:  #9dbdff;\n",
       "        }    #T_427e4512_de73_11e9_99a3_acde48001122row2_col2 {\n",
       "            background-color:  #b40426;\n",
       "        }    #T_427e4512_de73_11e9_99a3_acde48001122row2_col3 {\n",
       "            background-color:  #4e68d8;\n",
       "        }    #T_427e4512_de73_11e9_99a3_acde48001122row2_col4 {\n",
       "            background-color:  #8fb1fe;\n",
       "        }    #T_427e4512_de73_11e9_99a3_acde48001122row2_col5 {\n",
       "            background-color:  #9bbcff;\n",
       "        }    #T_427e4512_de73_11e9_99a3_acde48001122row2_col6 {\n",
       "            background-color:  #c3d5f4;\n",
       "        }    #T_427e4512_de73_11e9_99a3_acde48001122row2_col7 {\n",
       "            background-color:  #3e51c5;\n",
       "        }    #T_427e4512_de73_11e9_99a3_acde48001122row2_col8 {\n",
       "            background-color:  #3b4cc0;\n",
       "        }    #T_427e4512_de73_11e9_99a3_acde48001122row3_col0 {\n",
       "            background-color:  #f6a283;\n",
       "        }    #T_427e4512_de73_11e9_99a3_acde48001122row3_col1 {\n",
       "            background-color:  #5a78e4;\n",
       "        }    #T_427e4512_de73_11e9_99a3_acde48001122row3_col2 {\n",
       "            background-color:  #4f69d9;\n",
       "        }    #T_427e4512_de73_11e9_99a3_acde48001122row3_col3 {\n",
       "            background-color:  #b40426;\n",
       "        }    #T_427e4512_de73_11e9_99a3_acde48001122row3_col4 {\n",
       "            background-color:  #7396f5;\n",
       "        }    #T_427e4512_de73_11e9_99a3_acde48001122row3_col5 {\n",
       "            background-color:  #b1cbfc;\n",
       "        }    #T_427e4512_de73_11e9_99a3_acde48001122row3_col6 {\n",
       "            background-color:  #5d7ce6;\n",
       "        }    #T_427e4512_de73_11e9_99a3_acde48001122row3_col7 {\n",
       "            background-color:  #3b4cc0;\n",
       "        }    #T_427e4512_de73_11e9_99a3_acde48001122row3_col8 {\n",
       "            background-color:  #5d7ce6;\n",
       "        }    #T_427e4512_de73_11e9_99a3_acde48001122row4_col0 {\n",
       "            background-color:  #4f69d9;\n",
       "        }    #T_427e4512_de73_11e9_99a3_acde48001122row4_col1 {\n",
       "            background-color:  #f4987a;\n",
       "        }    #T_427e4512_de73_11e9_99a3_acde48001122row4_col2 {\n",
       "            background-color:  #85a8fc;\n",
       "        }    #T_427e4512_de73_11e9_99a3_acde48001122row4_col3 {\n",
       "            background-color:  #688aef;\n",
       "        }    #T_427e4512_de73_11e9_99a3_acde48001122row4_col4 {\n",
       "            background-color:  #b40426;\n",
       "        }    #T_427e4512_de73_11e9_99a3_acde48001122row4_col5 {\n",
       "            background-color:  #536edd;\n",
       "        }    #T_427e4512_de73_11e9_99a3_acde48001122row4_col6 {\n",
       "            background-color:  #7da0f9;\n",
       "        }    #T_427e4512_de73_11e9_99a3_acde48001122row4_col7 {\n",
       "            background-color:  #80a3fa;\n",
       "        }    #T_427e4512_de73_11e9_99a3_acde48001122row4_col8 {\n",
       "            background-color:  #a1c0ff;\n",
       "        }    #T_427e4512_de73_11e9_99a3_acde48001122row5_col0 {\n",
       "            background-color:  #bcd2f7;\n",
       "        }    #T_427e4512_de73_11e9_99a3_acde48001122row5_col1 {\n",
       "            background-color:  #4b64d5;\n",
       "        }    #T_427e4512_de73_11e9_99a3_acde48001122row5_col2 {\n",
       "            background-color:  #8fb1fe;\n",
       "        }    #T_427e4512_de73_11e9_99a3_acde48001122row5_col3 {\n",
       "            background-color:  #a6c4fe;\n",
       "        }    #T_427e4512_de73_11e9_99a3_acde48001122row5_col4 {\n",
       "            background-color:  #4f69d9;\n",
       "        }    #T_427e4512_de73_11e9_99a3_acde48001122row5_col5 {\n",
       "            background-color:  #b40426;\n",
       "        }    #T_427e4512_de73_11e9_99a3_acde48001122row5_col6 {\n",
       "            background-color:  #6384eb;\n",
       "        }    #T_427e4512_de73_11e9_99a3_acde48001122row5_col7 {\n",
       "            background-color:  #adc9fd;\n",
       "        }    #T_427e4512_de73_11e9_99a3_acde48001122row5_col8 {\n",
       "            background-color:  #cfdaea;\n",
       "        }    #T_427e4512_de73_11e9_99a3_acde48001122row6_col0 {\n",
       "            background-color:  #7597f6;\n",
       "        }    #T_427e4512_de73_11e9_99a3_acde48001122row6_col1 {\n",
       "            background-color:  #adc9fd;\n",
       "        }    #T_427e4512_de73_11e9_99a3_acde48001122row6_col2 {\n",
       "            background-color:  #d3dbe7;\n",
       "        }    #T_427e4512_de73_11e9_99a3_acde48001122row6_col3 {\n",
       "            background-color:  #779af7;\n",
       "        }    #T_427e4512_de73_11e9_99a3_acde48001122row6_col4 {\n",
       "            background-color:  #9ebeff;\n",
       "        }    #T_427e4512_de73_11e9_99a3_acde48001122row6_col5 {\n",
       "            background-color:  #8caffe;\n",
       "        }    #T_427e4512_de73_11e9_99a3_acde48001122row6_col6 {\n",
       "            background-color:  #b40426;\n",
       "        }    #T_427e4512_de73_11e9_99a3_acde48001122row6_col7 {\n",
       "            background-color:  #445acc;\n",
       "        }    #T_427e4512_de73_11e9_99a3_acde48001122row6_col8 {\n",
       "            background-color:  #7da0f9;\n",
       "        }    #T_427e4512_de73_11e9_99a3_acde48001122row7_col0 {\n",
       "            background-color:  #bfd3f6;\n",
       "        }    #T_427e4512_de73_11e9_99a3_acde48001122row7_col1 {\n",
       "            background-color:  #e5d8d1;\n",
       "        }    #T_427e4512_de73_11e9_99a3_acde48001122row7_col2 {\n",
       "            background-color:  #abc8fd;\n",
       "        }    #T_427e4512_de73_11e9_99a3_acde48001122row7_col3 {\n",
       "            background-color:  #a7c5fe;\n",
       "        }    #T_427e4512_de73_11e9_99a3_acde48001122row7_col4 {\n",
       "            background-color:  #dadce0;\n",
       "        }    #T_427e4512_de73_11e9_99a3_acde48001122row7_col5 {\n",
       "            background-color:  #eed0c0;\n",
       "        }    #T_427e4512_de73_11e9_99a3_acde48001122row7_col6 {\n",
       "            background-color:  #9abbff;\n",
       "        }    #T_427e4512_de73_11e9_99a3_acde48001122row7_col7 {\n",
       "            background-color:  #b40426;\n",
       "        }    #T_427e4512_de73_11e9_99a3_acde48001122row7_col8 {\n",
       "            background-color:  #f29072;\n",
       "        }    #T_427e4512_de73_11e9_99a3_acde48001122row8_col0 {\n",
       "            background-color:  #c6d6f1;\n",
       "        }    #T_427e4512_de73_11e9_99a3_acde48001122row8_col1 {\n",
       "            background-color:  #edd1c2;\n",
       "        }    #T_427e4512_de73_11e9_99a3_acde48001122row8_col2 {\n",
       "            background-color:  #93b5fe;\n",
       "        }    #T_427e4512_de73_11e9_99a3_acde48001122row8_col3 {\n",
       "            background-color:  #aec9fc;\n",
       "        }    #T_427e4512_de73_11e9_99a3_acde48001122row8_col4 {\n",
       "            background-color:  #dfdbd9;\n",
       "        }    #T_427e4512_de73_11e9_99a3_acde48001122row8_col5 {\n",
       "            background-color:  #f3c7b1;\n",
       "        }    #T_427e4512_de73_11e9_99a3_acde48001122row8_col6 {\n",
       "            background-color:  #b2ccfb;\n",
       "        }    #T_427e4512_de73_11e9_99a3_acde48001122row8_col7 {\n",
       "            background-color:  #f49a7b;\n",
       "        }    #T_427e4512_de73_11e9_99a3_acde48001122row8_col8 {\n",
       "            background-color:  #b40426;\n",
       "        }</style>  \n",
       "<table id=\"T_427e4512_de73_11e9_99a3_acde48001122\" > \n",
       "<thead>    <tr> \n",
       "        <th class=\"blank level0\" ></th> \n",
       "        <th class=\"col_heading level0 col0\" >price</th> \n",
       "        <th class=\"col_heading level0 col1\" >reviews</th> \n",
       "        <th class=\"col_heading level0 col2\" >rating</th> \n",
       "        <th class=\"col_heading level0 col3\" >accommodates</th> \n",
       "        <th class=\"col_heading level0 col4\" >savwish</th> \n",
       "        <th class=\"col_heading level0 col5\" >min_stay</th> \n",
       "        <th class=\"col_heading level0 col6\" >sentiment</th> \n",
       "        <th class=\"col_heading level0 col7\" >revenue</th> \n",
       "        <th class=\"col_heading level0 col8\" >Norm_Revenue</th> \n",
       "    </tr></thead> \n",
       "<tbody>    <tr> \n",
       "        <th id=\"T_427e4512_de73_11e9_99a3_acde48001122level0_row0\" class=\"row_heading level0 row0\" >price</th> \n",
       "        <td id=\"T_427e4512_de73_11e9_99a3_acde48001122row0_col0\" class=\"data row0 col0\" >1</td> \n",
       "        <td id=\"T_427e4512_de73_11e9_99a3_acde48001122row0_col1\" class=\"data row0 col1\" >-0.312346</td> \n",
       "        <td id=\"T_427e4512_de73_11e9_99a3_acde48001122row0_col2\" class=\"data row0 col2\" >-0.182003</td> \n",
       "        <td id=\"T_427e4512_de73_11e9_99a3_acde48001122row0_col3\" class=\"data row0 col3\" >0.644212</td> \n",
       "        <td id=\"T_427e4512_de73_11e9_99a3_acde48001122row0_col4\" class=\"data row0 col4\" >-0.224548</td> \n",
       "        <td id=\"T_427e4512_de73_11e9_99a3_acde48001122row0_col5\" class=\"data row0 col5\" >0.195903</td> \n",
       "        <td id=\"T_427e4512_de73_11e9_99a3_acde48001122row0_col6\" class=\"data row0 col6\" >-0.075822</td> \n",
       "        <td id=\"T_427e4512_de73_11e9_99a3_acde48001122row0_col7\" class=\"data row0 col7\" >0.209298</td> \n",
       "        <td id=\"T_427e4512_de73_11e9_99a3_acde48001122row0_col8\" class=\"data row0 col8\" >0.237619</td> \n",
       "    </tr>    <tr> \n",
       "        <th id=\"T_427e4512_de73_11e9_99a3_acde48001122level0_row1\" class=\"row_heading level0 row1\" >reviews</th> \n",
       "        <td id=\"T_427e4512_de73_11e9_99a3_acde48001122row1_col0\" class=\"data row1 col0\" >-0.312346</td> \n",
       "        <td id=\"T_427e4512_de73_11e9_99a3_acde48001122row1_col1\" class=\"data row1 col1\" >1</td> \n",
       "        <td id=\"T_427e4512_de73_11e9_99a3_acde48001122row1_col2\" class=\"data row1 col2\" >0.0759569</td> \n",
       "        <td id=\"T_427e4512_de73_11e9_99a3_acde48001122row1_col3\" class=\"data row1 col3\" >-0.178825</td> \n",
       "        <td id=\"T_427e4512_de73_11e9_99a3_acde48001122row1_col4\" class=\"data row1 col4\" >0.674473</td> \n",
       "        <td id=\"T_427e4512_de73_11e9_99a3_acde48001122row1_col5\" class=\"data row1 col5\" >-0.240123</td> \n",
       "        <td id=\"T_427e4512_de73_11e9_99a3_acde48001122row1_col6\" class=\"data row1 col6\" >0.137882</td> \n",
       "        <td id=\"T_427e4512_de73_11e9_99a3_acde48001122row1_col7\" class=\"data row1 col7\" >0.389324</td> \n",
       "        <td id=\"T_427e4512_de73_11e9_99a3_acde48001122row1_col8\" class=\"data row1 col8\" >0.43686</td> \n",
       "    </tr>    <tr> \n",
       "        <th id=\"T_427e4512_de73_11e9_99a3_acde48001122level0_row2\" class=\"row_heading level0 row2\" >rating</th> \n",
       "        <td id=\"T_427e4512_de73_11e9_99a3_acde48001122row2_col0\" class=\"data row2 col0\" >-0.182003</td> \n",
       "        <td id=\"T_427e4512_de73_11e9_99a3_acde48001122row2_col1\" class=\"data row2 col1\" >0.0759569</td> \n",
       "        <td id=\"T_427e4512_de73_11e9_99a3_acde48001122row2_col2\" class=\"data row2 col2\" >1</td> \n",
       "        <td id=\"T_427e4512_de73_11e9_99a3_acde48001122row2_col3\" class=\"data row2 col3\" >-0.102754</td> \n",
       "        <td id=\"T_427e4512_de73_11e9_99a3_acde48001122row2_col4\" class=\"data row2 col4\" >0.0899236</td> \n",
       "        <td id=\"T_427e4512_de73_11e9_99a3_acde48001122row2_col5\" class=\"data row2 col5\" >0.122406</td> \n",
       "        <td id=\"T_427e4512_de73_11e9_99a3_acde48001122row2_col6\" class=\"data row2 col6\" >0.364351</td> \n",
       "        <td id=\"T_427e4512_de73_11e9_99a3_acde48001122row2_col7\" class=\"data row2 col7\" >0.215652</td> \n",
       "        <td id=\"T_427e4512_de73_11e9_99a3_acde48001122row2_col8\" class=\"data row2 col8\" >0.132695</td> \n",
       "    </tr>    <tr> \n",
       "        <th id=\"T_427e4512_de73_11e9_99a3_acde48001122level0_row3\" class=\"row_heading level0 row3\" >accommodates</th> \n",
       "        <td id=\"T_427e4512_de73_11e9_99a3_acde48001122row3_col0\" class=\"data row3 col0\" >0.644212</td> \n",
       "        <td id=\"T_427e4512_de73_11e9_99a3_acde48001122row3_col1\" class=\"data row3 col1\" >-0.178825</td> \n",
       "        <td id=\"T_427e4512_de73_11e9_99a3_acde48001122row3_col2\" class=\"data row3 col2\" >-0.102754</td> \n",
       "        <td id=\"T_427e4512_de73_11e9_99a3_acde48001122row3_col3\" class=\"data row3 col3\" >1</td> \n",
       "        <td id=\"T_427e4512_de73_11e9_99a3_acde48001122row3_col4\" class=\"data row3 col4\" >-0.00697343</td> \n",
       "        <td id=\"T_427e4512_de73_11e9_99a3_acde48001122row3_col5\" class=\"data row3 col5\" >0.200159</td> \n",
       "        <td id=\"T_427e4512_de73_11e9_99a3_acde48001122row3_col6\" class=\"data row3 col6\" >0.0458528</td> \n",
       "        <td id=\"T_427e4512_de73_11e9_99a3_acde48001122row3_col7\" class=\"data row3 col7\" >0.205083</td> \n",
       "        <td id=\"T_427e4512_de73_11e9_99a3_acde48001122row3_col8\" class=\"data row3 col8\" >0.229627</td> \n",
       "    </tr>    <tr> \n",
       "        <th id=\"T_427e4512_de73_11e9_99a3_acde48001122level0_row4\" class=\"row_heading level0 row4\" >savwish</th> \n",
       "        <td id=\"T_427e4512_de73_11e9_99a3_acde48001122row4_col0\" class=\"data row4 col0\" >-0.224548</td> \n",
       "        <td id=\"T_427e4512_de73_11e9_99a3_acde48001122row4_col1\" class=\"data row4 col1\" >0.674473</td> \n",
       "        <td id=\"T_427e4512_de73_11e9_99a3_acde48001122row4_col2\" class=\"data row4 col2\" >0.0899236</td> \n",
       "        <td id=\"T_427e4512_de73_11e9_99a3_acde48001122row4_col3\" class=\"data row4 col3\" >-0.00697343</td> \n",
       "        <td id=\"T_427e4512_de73_11e9_99a3_acde48001122row4_col4\" class=\"data row4 col4\" >1</td> \n",
       "        <td id=\"T_427e4512_de73_11e9_99a3_acde48001122row4_col5\" class=\"data row4 col5\" >-0.140918</td> \n",
       "        <td id=\"T_427e4512_de73_11e9_99a3_acde48001122row4_col6\" class=\"data row4 col6\" >0.142882</td> \n",
       "        <td id=\"T_427e4512_de73_11e9_99a3_acde48001122row4_col7\" class=\"data row4 col7\" >0.375639</td> \n",
       "        <td id=\"T_427e4512_de73_11e9_99a3_acde48001122row4_col8\" class=\"data row4 col8\" >0.397879</td> \n",
       "    </tr>    <tr> \n",
       "        <th id=\"T_427e4512_de73_11e9_99a3_acde48001122level0_row5\" class=\"row_heading level0 row5\" >min_stay</th> \n",
       "        <td id=\"T_427e4512_de73_11e9_99a3_acde48001122row5_col0\" class=\"data row5 col0\" >0.195903</td> \n",
       "        <td id=\"T_427e4512_de73_11e9_99a3_acde48001122row5_col1\" class=\"data row5 col1\" >-0.240123</td> \n",
       "        <td id=\"T_427e4512_de73_11e9_99a3_acde48001122row5_col2\" class=\"data row5 col2\" >0.122406</td> \n",
       "        <td id=\"T_427e4512_de73_11e9_99a3_acde48001122row5_col3\" class=\"data row5 col3\" >0.200159</td> \n",
       "        <td id=\"T_427e4512_de73_11e9_99a3_acde48001122row5_col4\" class=\"data row5 col4\" >-0.140918</td> \n",
       "        <td id=\"T_427e4512_de73_11e9_99a3_acde48001122row5_col5\" class=\"data row5 col5\" >1</td> \n",
       "        <td id=\"T_427e4512_de73_11e9_99a3_acde48001122row5_col6\" class=\"data row5 col6\" >0.0652534</td> \n",
       "        <td id=\"T_427e4512_de73_11e9_99a3_acde48001122row5_col7\" class=\"data row5 col7\" >0.47548</td> \n",
       "        <td id=\"T_427e4512_de73_11e9_99a3_acde48001122row5_col8\" class=\"data row5 col8\" >0.524222</td> \n",
       "    </tr>    <tr> \n",
       "        <th id=\"T_427e4512_de73_11e9_99a3_acde48001122level0_row6\" class=\"row_heading level0 row6\" >sentiment</th> \n",
       "        <td id=\"T_427e4512_de73_11e9_99a3_acde48001122row6_col0\" class=\"data row6 col0\" >-0.075822</td> \n",
       "        <td id=\"T_427e4512_de73_11e9_99a3_acde48001122row6_col1\" class=\"data row6 col1\" >0.137882</td> \n",
       "        <td id=\"T_427e4512_de73_11e9_99a3_acde48001122row6_col2\" class=\"data row6 col2\" >0.364351</td> \n",
       "        <td id=\"T_427e4512_de73_11e9_99a3_acde48001122row6_col3\" class=\"data row6 col3\" >0.0458528</td> \n",
       "        <td id=\"T_427e4512_de73_11e9_99a3_acde48001122row6_col4\" class=\"data row6 col4\" >0.142882</td> \n",
       "        <td id=\"T_427e4512_de73_11e9_99a3_acde48001122row6_col5\" class=\"data row6 col5\" >0.0652534</td> \n",
       "        <td id=\"T_427e4512_de73_11e9_99a3_acde48001122row6_col6\" class=\"data row6 col6\" >1</td> \n",
       "        <td id=\"T_427e4512_de73_11e9_99a3_acde48001122row6_col7\" class=\"data row6 col7\" >0.232977</td> \n",
       "        <td id=\"T_427e4512_de73_11e9_99a3_acde48001122row6_col8\" class=\"data row6 col8\" >0.310676</td> \n",
       "    </tr>    <tr> \n",
       "        <th id=\"T_427e4512_de73_11e9_99a3_acde48001122level0_row7\" class=\"row_heading level0 row7\" >revenue</th> \n",
       "        <td id=\"T_427e4512_de73_11e9_99a3_acde48001122row7_col0\" class=\"data row7 col0\" >0.209298</td> \n",
       "        <td id=\"T_427e4512_de73_11e9_99a3_acde48001122row7_col1\" class=\"data row7 col1\" >0.389324</td> \n",
       "        <td id=\"T_427e4512_de73_11e9_99a3_acde48001122row7_col2\" class=\"data row7 col2\" >0.215652</td> \n",
       "        <td id=\"T_427e4512_de73_11e9_99a3_acde48001122row7_col3\" class=\"data row7 col3\" >0.205083</td> \n",
       "        <td id=\"T_427e4512_de73_11e9_99a3_acde48001122row7_col4\" class=\"data row7 col4\" >0.375639</td> \n",
       "        <td id=\"T_427e4512_de73_11e9_99a3_acde48001122row7_col5\" class=\"data row7 col5\" >0.47548</td> \n",
       "        <td id=\"T_427e4512_de73_11e9_99a3_acde48001122row7_col6\" class=\"data row7 col6\" >0.232977</td> \n",
       "        <td id=\"T_427e4512_de73_11e9_99a3_acde48001122row7_col7\" class=\"data row7 col7\" >1</td> \n",
       "        <td id=\"T_427e4512_de73_11e9_99a3_acde48001122row7_col8\" class=\"data row7 col8\" >0.800709</td> \n",
       "    </tr>    <tr> \n",
       "        <th id=\"T_427e4512_de73_11e9_99a3_acde48001122level0_row8\" class=\"row_heading level0 row8\" >Norm_Revenue</th> \n",
       "        <td id=\"T_427e4512_de73_11e9_99a3_acde48001122row8_col0\" class=\"data row8 col0\" >0.237619</td> \n",
       "        <td id=\"T_427e4512_de73_11e9_99a3_acde48001122row8_col1\" class=\"data row8 col1\" >0.43686</td> \n",
       "        <td id=\"T_427e4512_de73_11e9_99a3_acde48001122row8_col2\" class=\"data row8 col2\" >0.132695</td> \n",
       "        <td id=\"T_427e4512_de73_11e9_99a3_acde48001122row8_col3\" class=\"data row8 col3\" >0.229627</td> \n",
       "        <td id=\"T_427e4512_de73_11e9_99a3_acde48001122row8_col4\" class=\"data row8 col4\" >0.397879</td> \n",
       "        <td id=\"T_427e4512_de73_11e9_99a3_acde48001122row8_col5\" class=\"data row8 col5\" >0.524222</td> \n",
       "        <td id=\"T_427e4512_de73_11e9_99a3_acde48001122row8_col6\" class=\"data row8 col6\" >0.310676</td> \n",
       "        <td id=\"T_427e4512_de73_11e9_99a3_acde48001122row8_col7\" class=\"data row8 col7\" >0.800709</td> \n",
       "        <td id=\"T_427e4512_de73_11e9_99a3_acde48001122row8_col8\" class=\"data row8 col8\" >1</td> \n",
       "    </tr></tbody> \n",
       "</table> "
      ],
      "text/plain": [
       "<pandas.io.formats.style.Styler at 0x1a40f10278>"
      ]
     },
     "execution_count": 104,
     "metadata": {},
     "output_type": "execute_result"
    }
   ],
   "source": [
    "corr = newMiami.corr()\n",
    "corr.style.background_gradient(cmap='coolwarm')"
   ]
  },
  {
   "cell_type": "code",
   "execution_count": 112,
   "metadata": {},
   "outputs": [],
   "source": [
    "mydf = newMiami.drop(columns=['price','min_stay','reviews','revenue','Norm_Revenue'])"
   ]
  },
  {
   "cell_type": "code",
   "execution_count": 113,
   "metadata": {},
   "outputs": [],
   "source": [
    "from sklearn.model_selection import train_test_split\n",
    "\n",
    "X_train, X_test, y_train, y_test = train_test_split(mydf, y, test_size = 0.2)"
   ]
  },
  {
   "cell_type": "code",
   "execution_count": 114,
   "metadata": {},
   "outputs": [
    {
     "name": "stdout",
     "output_type": "stream",
     "text": [
      "(132, 12) (132,)\n",
      "(33, 12) (33,)\n"
     ]
    }
   ],
   "source": [
    "print (X_train.shape, y_train.shape)\n",
    "print (X_test.shape, y_test.shape)"
   ]
  },
  {
   "cell_type": "code",
   "execution_count": 115,
   "metadata": {},
   "outputs": [
    {
     "data": {
      "text/plain": [
       "LinearRegression(copy_X=True, fit_intercept=True, n_jobs=None,\n",
       "         normalize=False)"
      ]
     },
     "execution_count": 115,
     "metadata": {},
     "output_type": "execute_result"
    }
   ],
   "source": [
    "from sklearn import linear_model, metrics\n",
    "\n",
    "miami_reg = linear_model.LinearRegression()\n",
    "miami_reg.fit(X_train, y_train)"
   ]
  },
  {
   "cell_type": "code",
   "execution_count": 116,
   "metadata": {},
   "outputs": [],
   "source": [
    "y_pred = miami_reg.predict(X_test)"
   ]
  },
  {
   "cell_type": "code",
   "execution_count": 117,
   "metadata": {},
   "outputs": [
    {
     "name": "stdout",
     "output_type": "stream",
     "text": [
      "0.2198863090944907\n"
     ]
    }
   ],
   "source": [
    "print (metrics.mean_squared_error(y_test, y_pred))"
   ]
  },
  {
   "cell_type": "code",
   "execution_count": 118,
   "metadata": {},
   "outputs": [
    {
     "data": {
      "text/plain": [
       "0.0819311867445024"
      ]
     },
     "execution_count": 118,
     "metadata": {},
     "output_type": "execute_result"
    }
   ],
   "source": [
    "miami_reg.score(X_test, y_test)"
   ]
  },
  {
   "cell_type": "code",
   "execution_count": 119,
   "metadata": {},
   "outputs": [],
   "source": [
    "df1 = pd.DataFrame({'Actual': y_test, 'Predicted': y_pred})"
   ]
  },
  {
   "cell_type": "code",
   "execution_count": null,
   "metadata": {
    "scrolled": true
   },
   "outputs": [],
   "source": []
  },
  {
   "cell_type": "code",
   "execution_count": null,
   "metadata": {},
   "outputs": [],
   "source": []
  }
 ],
 "metadata": {
  "kernelspec": {
   "display_name": "Python 3",
   "language": "python",
   "name": "python3"
  },
  "language_info": {
   "codemirror_mode": {
    "name": "ipython",
    "version": 3
   },
   "file_extension": ".py",
   "mimetype": "text/x-python",
   "name": "python",
   "nbconvert_exporter": "python",
   "pygments_lexer": "ipython3",
   "version": "3.7.1"
  }
 },
 "nbformat": 4,
 "nbformat_minor": 2
}
